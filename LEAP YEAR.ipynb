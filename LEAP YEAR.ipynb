{
 "cells": [
  {
   "cell_type": "code",
   "execution_count": null,
   "metadata": {},
   "outputs": [],
   "source": [
    "#leap year should be divisible by 4 and 400 buu not with 100\n",
    "#but leap year should not be divisible by 4 and 100 at a time"
   ]
  },
  {
   "cell_type": "code",
   "execution_count": 10,
   "metadata": {},
   "outputs": [
    {
     "name": "stdout",
     "output_type": "stream",
     "text": [
      "Enter Year : 2000\n",
      "2000  is leap year\n"
     ]
    }
   ],
   "source": [
    "d=int(input('Enter Year : '))\n",
    "\n",
    "if d%400==0:\n",
    "    print(d, ' is leap year')\n",
    "elif d%4==0 and d%100==0:\n",
    "    print(d, ' is not leap year')\n",
    "elif d%4==0:\n",
    "    print(d, ' is leap year')\n",
    "    \n",
    "else:\n",
    "    print(d, ' is not leap year')"
   ]
  }
 ],
 "metadata": {
  "kernelspec": {
   "display_name": "Python 3",
   "language": "python",
   "name": "python3"
  },
  "language_info": {
   "codemirror_mode": {
    "name": "ipython",
    "version": 3
   },
   "file_extension": ".py",
   "mimetype": "text/x-python",
   "name": "python",
   "nbconvert_exporter": "python",
   "pygments_lexer": "ipython3",
   "version": "3.8.3"
  }
 },
 "nbformat": 4,
 "nbformat_minor": 2
}
