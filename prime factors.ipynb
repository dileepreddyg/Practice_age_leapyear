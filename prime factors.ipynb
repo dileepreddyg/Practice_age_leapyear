{
 "cells": [
  {
   "cell_type": "code",
   "execution_count": 2,
   "metadata": {},
   "outputs": [
    {
     "name": "stdout",
     "output_type": "stream",
     "text": [
      "216\n",
      "prime factors are 1\n",
      "prime factors are 2\n",
      "prime factors are 3\n",
      "prime factors are 4\n",
      "prime factors are 6\n",
      "prime factors are 8\n",
      "prime factors are 9\n",
      "prime factors are 12\n",
      "prime factors are 18\n",
      "prime factors are 24\n",
      "prime factors are 27\n",
      "prime factors are 36\n",
      "prime factors are 54\n",
      "prime factors are 72\n",
      "prime factors are 108\n",
      "prime factors are 216\n"
     ]
    }
   ],
   "source": [
    "d=int(input())\n",
    "for x in range (1,d+1):\n",
    "    if d % x==0:\n",
    "        print('prime factors are',x)\n",
    "        continue\n"
   ]
  }
 ],
 "metadata": {
  "kernelspec": {
   "display_name": "Python 3",
   "language": "python",
   "name": "python3"
  },
  "language_info": {
   "codemirror_mode": {
    "name": "ipython",
    "version": 3
   },
   "file_extension": ".py",
   "mimetype": "text/x-python",
   "name": "python",
   "nbconvert_exporter": "python",
   "pygments_lexer": "ipython3",
   "version": "3.8.3"
  }
 },
 "nbformat": 4,
 "nbformat_minor": 2
}
