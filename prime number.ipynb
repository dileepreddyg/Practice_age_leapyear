{
 "cells": [
  {
   "cell_type": "code",
   "execution_count": 11,
   "id": "proper-society",
   "metadata": {},
   "outputs": [],
   "source": [
    "import math\n",
    "\n",
    "def is_prime(num):\n",
    "    \n",
    "   ## A Better method of checking for primes . ##\n",
    "    \n",
    "    if num % 2 == 0 and num > 2: \n",
    "        return print(' not prime\\n')\n",
    "    for a in range(3, int(math.sqrt(num)+1), 2):\n",
    "        if num % a == 0:\n",
    "            return print(' not prime')\n",
    "        \n",
    "    return print(' prime')"
   ]
  },
  {
   "cell_type": "code",
   "execution_count": 10,
   "id": "corresponding-psychology",
   "metadata": {},
   "outputs": [
    {
     "name": "stdout",
     "output_type": "stream",
     "text": [
      " prime\n"
     ]
    }
   ],
   "source": [
    "is_prime(23)"
   ]
  }
 ],
 "metadata": {
  "kernelspec": {
   "display_name": "Python 3",
   "language": "python",
   "name": "python3"
  },
  "language_info": {
   "codemirror_mode": {
    "name": "ipython",
    "version": 3
   },
   "file_extension": ".py",
   "mimetype": "text/x-python",
   "name": "python",
   "nbconvert_exporter": "python",
   "pygments_lexer": "ipython3",
   "version": "3.8.3"
  }
 },
 "nbformat": 4,
 "nbformat_minor": 5
}
