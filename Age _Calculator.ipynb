{
 "cells": [
  {
   "cell_type": "code",
   "execution_count": 17,
   "id": "portuguese-ordinary",
   "metadata": {},
   "outputs": [
    {
     "name": "stdout",
     "output_type": "stream",
     "text": [
      "Enter your day of birth: 26\n",
      "Enter your month of birth: 08\n",
      "Enter your year of birth: 1992\n",
      "\n",
      "\n",
      "Your Present AGE  : 28 years  6 months  20 days\n"
     ]
    }
   ],
   "source": [
    "                                        ## Age Calculator  ##\n",
    "\n",
    "                        ## Here are the simple codes to calculate the age  ##\n",
    "    \n",
    "import datetime              ## datetime is useful for present day ## \n",
    "now = datetime.datetime.now()\n",
    "\n",
    " ## this 3 lines represents present (day,month,year) ##\n",
    "\n",
    "present_day=int(now.strftime(\"%d\"))     \n",
    "present_montM=int(now.strftime(\"%m\"))\n",
    "present_year=int(now.strftime(\"%Y\"))\n",
    "\n",
    " ## this 3 lines represents date of birth (day,month,year) ##\n",
    "\n",
    "birth_date=int(input('Enter your day of birth: '))\n",
    "birth_montM=int(input('Enter your month of birth: '))\n",
    "birth_year=int(input('Enter your year of birth: '))\n",
    "\n",
    "## To neglect invalid enteries ##\n",
    "\n",
    "if birth_date <= 0 or  birth_date > 31 :\n",
    "    print('INVALID DATE') \n",
    "        \n",
    "if birth_month <=0 or  birth_month > 12:\n",
    "    print('INVALID MONTH') \n",
    "        \n",
    "if birth_year <= 0 or birth_year > 2021 :\n",
    "    print('INVALID YEAR')\n",
    "        \n",
    "\n",
    "    ## Calculating Date : there are two possibilities ##\n",
    "\n",
    "## 1- present day is greater than your birth date ##\n",
    "if present_day >= birth_date:\n",
    "    a=0;D=( present_day - birth_date)\n",
    "            \n",
    "## 2- present day is lesser than your birthday so here we need to add before month days to present day ##        \n",
    "else:\n",
    "            \n",
    "    if present_month == 2:\n",
    "        a=1;D=(28 + present_day - birth_date)\n",
    "                    \n",
    "    elif present_month == 4 or present_month == 6 or present_month == 9 or present_month == 11 :\n",
    "        a=1;D=(30 + present_day - birth_date)\n",
    "                    \n",
    "    else :\n",
    "        a=1;D=(31 + present_day - birth_date)\n",
    "                \n",
    "   ## Calculating month and year ##              \n",
    "                \n",
    "if present_month >= birth_month:\n",
    "    M=(present_month - birth_month - a)\n",
    "    Y=(present_year - birth_year)\n",
    "        \n",
    "else :\n",
    "    M=(12 + present_month - birth_month - a) \n",
    "    Y=(present_year - birth_year - 1)\n",
    "            \n",
    "            \n",
    "print('\\n\\nYour Present AGE  :',Y,'years ', M,'months ',D,'days' )\n",
    "            \n",
    "        \n",
    " \n",
    "            "
   ]
  },
  {
   "cell_type": "code",
   "execution_count": null,
   "id": "cooperative-mustang",
   "metadata": {},
   "outputs": [],
   "source": []
  }
 ],
 "metadata": {
  "kernelspec": {
   "display_name": "Python 3",
   "language": "python",
   "name": "python3"
  },
  "language_info": {
   "codemirror_mode": {
    "name": "ipython",
    "version": 3
   },
   "file_extension": ".py",
   "mimetype": "text/x-python",
   "name": "python",
   "nbconvert_exporter": "python",
   "pygments_lexer": "ipython3",
   "version": "3.8.3"
  }
 },
 "nbformat": 4,
 "nbformat_minor": 5
}
